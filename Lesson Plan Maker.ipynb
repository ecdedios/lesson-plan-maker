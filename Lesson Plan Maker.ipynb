{
 "cells": [
  {
   "cell_type": "code",
   "execution_count": 1,
   "id": "6d3ef4e6-2e5d-4a0b-8947-91846b9b76e6",
   "metadata": {},
   "outputs": [],
   "source": [
    "import os\n",
    "from environs import Env\n",
    "\n",
    "env = Env()\n",
    "env.read_env(\".env\") # read .env file, if it exists\n",
    "\n",
    "api_key = os.getenv(\"OPENAI_API_KEY\")"
   ]
  },
  {
   "cell_type": "code",
   "execution_count": 2,
   "id": "fcc8389a-681d-4875-bf87-909326ff05d8",
   "metadata": {},
   "outputs": [],
   "source": [
    "from langchain_openai.llms import OpenAI\n",
    "from langchain_openai.chat_models import ChatOpenAI\n",
    "from langchain.agents.agent_types import AgentType\n",
    "from langchain_experimental.agents import create_csv_agent\n",
    "from langchain.output_parsers import CommaSeparatedListOutputParser\n",
    "from langchain.prompts.chat import(\n",
    "    ChatPromptTemplate,\n",
    "    SystemMessagePromptTemplate,\n",
    "    HumanMessagePromptTemplate,\n",
    ")\n",
    "from langchain.chains import LLMChain\n",
    "from langchain.output_parsers import ResponseSchema\n",
    "from langchain.output_parsers import StructuredOutputParser"
   ]
  },
  {
   "cell_type": "markdown",
   "id": "764c46db-3d74-4f97-bf8c-179abb8afa5f",
   "metadata": {},
   "source": [
    "## Get list of accomodations"
   ]
  },
  {
   "cell_type": "code",
   "execution_count": 3,
   "id": "76fdf7e7-4c83-4f22-b8b3-dac210260454",
   "metadata": {},
   "outputs": [],
   "source": [
    "output_parser = CommaSeparatedListOutputParser()"
   ]
  },
  {
   "cell_type": "code",
   "execution_count": 4,
   "id": "2f26363e-0e05-4c11-9c17-688813afae85",
   "metadata": {},
   "outputs": [],
   "source": [
    "format_instructions = output_parser.get_format_instructions()"
   ]
  },
  {
   "cell_type": "code",
   "execution_count": 5,
   "id": "d4c76e05-a136-4357-9d09-b12efb1afe46",
   "metadata": {},
   "outputs": [],
   "source": [
    "agent = create_csv_agent(\n",
    "    OpenAI(temperature=0, max_tokens=100, openai_api_key=api_key),\n",
    "    \"docs/student_roster.csv\",\n",
    "    verbose=True,\n",
    "    agent_type=AgentType.ZERO_SHOT_REACT_DESCRIPTION,\n",
    ")"
   ]
  },
  {
   "cell_type": "markdown",
   "id": "de94e487-c90c-419b-8a28-c6f4f6b2cc26",
   "metadata": {},
   "source": [
    "### Prompt for getting list of accomodations"
   ]
  },
  {
   "cell_type": "code",
   "execution_count": 6,
   "id": "1250776d-9d6e-4ecb-8181-9f3f3a6116db",
   "metadata": {},
   "outputs": [
    {
     "name": "stdout",
     "output_type": "stream",
     "text": [
      "\n",
      "\n",
      "\u001b[1m> Entering new AgentExecutor chain...\u001b[0m\n",
      "\u001b[32;1m\u001b[1;3mThought: I need to filter the dataframe to only include rows where the LAST column is Abson and the FIRST column is Phoenix and the SUBJECT column is Science.\n",
      "Action: python_repl_ast\n",
      "Action Input: df[(df['LAST'] == 'Abson') & (df['FIRST'] == 'Phoenix') & (df['SUBJECT'] == 'Science')]\u001b[0m\n",
      "Observation: \u001b[36;1m\u001b[1;3m     LAST    FIRST  SUBJECT                    ACCOMODATIONS\n",
      "12  Abson  Phoenix  Science  Extra time, Oral administration\u001b[0m\n",
      "Thought:\u001b[32;1m\u001b[1;3m I need to select the ACCOMODATIONS column from this filtered dataframe.\n",
      "Action: python_repl_ast\n",
      "Action Input: df[(df['LAST'] == 'Abson') & (df['FIRST'] == 'Phoenix') & (df['SUBJECT'] == 'Science')]['ACCOMODATIONS']\u001b[0m\n",
      "Observation: \u001b[36;1m\u001b[1;3m12    Extra time, Oral administration\n",
      "Name: ACCOMODATIONS, dtype: object\u001b[0m\n",
      "Thought:\u001b[32;1m\u001b[1;3m I need to convert this series to a list.\n",
      "Action: python_repl_ast\n",
      "Action Input: list(df[(df['LAST'] == 'Abson') & (df['FIRST'] == 'Phoenix') & (df['SUBJECT'] == 'Science')]['ACCOMODATIONS'])\u001b[0m\n",
      "Observation: \u001b[36;1m\u001b[1;3m['Extra time, Oral administration']\u001b[0m\n",
      "Thought:\u001b[32;1m\u001b[1;3m I now know the final answer\n",
      "Final Answer: Extra time, Oral administration\u001b[0m\n",
      "\n",
      "\u001b[1m> Finished chain.\u001b[0m\n"
     ]
    }
   ],
   "source": [
    "message_for_accom = agent.invoke(\"List the accomodations for Abson Phoenix for Science.\\n\\n'Your response should be a list of comma separated values, eg: `foo, bar, baz`'\")"
   ]
  },
  {
   "cell_type": "code",
   "execution_count": 7,
   "id": "70b45de6-15b2-4bf8-ba37-f3e0e2ef3372",
   "metadata": {},
   "outputs": [],
   "source": [
    "accom_list = message_for_accom[\"output\"].split(\",\")"
   ]
  },
  {
   "cell_type": "markdown",
   "id": "d8e7d8b3-aac7-4508-a306-0733b8db28b5",
   "metadata": {},
   "source": [
    "## Write lesson plan"
   ]
  },
  {
   "cell_type": "code",
   "execution_count": 8,
   "id": "30a2d178-d753-43c7-9fcb-ad584d3a6bd8",
   "metadata": {},
   "outputs": [],
   "source": [
    "teks_code_schema = ResponseSchema(name=\"teks_code\",\n",
    "                             description=\"This is the TEKS code of the lesson plan.\")\n",
    "\n",
    "subject_schema = ResponseSchema(name=\"subject\",\n",
    "                                      description=\"This is the subject of the lesson plan.\")\n",
    "\n",
    "duration_schema = ResponseSchema(name=\"duration\",\n",
    "                                    description=\"This is the duration of the lesson plan.\")\n",
    "\n",
    "response_schemas = [teks_code_schema, \n",
    "                    subject_schema,\n",
    "                    duration_schema]"
   ]
  },
  {
   "cell_type": "code",
   "execution_count": 9,
   "id": "956efc24-58bb-4644-96b6-e72bfdf4438d",
   "metadata": {},
   "outputs": [],
   "source": [
    "output_parser = StructuredOutputParser.from_response_schemas(response_schemas)"
   ]
  },
  {
   "cell_type": "code",
   "execution_count": 10,
   "id": "1adcde74-2f4f-4c9d-89b2-847b25e76f4d",
   "metadata": {},
   "outputs": [],
   "source": [
    "format_instructions = \"\"\"The output should be a markdown code snippet formatted in the following schema, including the leading and trailing \"\\`\\`\\`json\" and \"\\`\\`\\`\":\n",
    "\n",
    "```json\n",
    "{\n",
    "    \"teks_code\": string  // This is the TEKS code of the lesson plan\n",
    "    \"subject\": string  // This is the subject of the lesson plan\n",
    "    \"duration\": string  // This is the duration of the lesson plan\n",
    "    \"warm_up_exercise\": string // This is the warm-up exerciseportion of the lesson plan\n",
    "    \"attention_getter\": string // This is the attention getter of the lesson plan\n",
    "    \"mini_lesson\": string // This is the mini-lesson of the lesson plan\n",
    "    \"student_practice\": string // This is the student practice of the lesson plan\n",
    "    \"exit_ticket\": string // This is the exit ticket of the lesson plan\n",
    "}\n",
    "```\n",
    "\"\"\""
   ]
  },
  {
   "cell_type": "code",
   "execution_count": 11,
   "id": "f514c44a-66e3-418e-8ded-a42748a73769",
   "metadata": {},
   "outputs": [],
   "source": [
    "template_string = \"You are TeachGPT, an AI assistant that writes lessons plans according to the Texas Essential Knowledge and Skills (TEKS). Write a lesson plan on TEKS {teks_code} {subject}. The lesson plan must last for {duration} minutes. Include a warm-up exercise, an attention getter, a mini-lesson, student practice, and exit ticket.\\n\\n{format_instructions}\""
   ]
  },
  {
   "cell_type": "code",
   "execution_count": 12,
   "id": "2ff2b268-5815-454a-a662-1a8654cca13f",
   "metadata": {},
   "outputs": [],
   "source": [
    "prompt = ChatPromptTemplate.from_template(template=template_string)"
   ]
  },
  {
   "cell_type": "markdown",
   "id": "b53efd33-30fe-4697-af15-2f610c3894ba",
   "metadata": {},
   "source": [
    "### Prompt for lesson plan"
   ]
  },
  {
   "cell_type": "code",
   "execution_count": 13,
   "id": "c29111e0-84fe-45f0-b6ec-e7328228981d",
   "metadata": {},
   "outputs": [],
   "source": [
    "messages = prompt.format_messages(teks_code=\"4.2C\", \n",
    "                                  subject=\"Science\",\n",
    "                                  duration=\"60\",\n",
    "                                  format_instructions=format_instructions)"
   ]
  },
  {
   "cell_type": "code",
   "execution_count": 14,
   "id": "f6af03cd-f5d3-449c-b8e9-ff787d78e2a0",
   "metadata": {},
   "outputs": [
    {
     "data": {
      "text/plain": [
       "[HumanMessage(content='You are TeachGPT, an AI assistant that writes lessons plans according to the Texas Essential Knowledge and Skills (TEKS). Write a lesson plan on TEKS 4.2C Science. The lesson plan must last for 60 minutes. Include a warm-up exercise, an attention getter, a mini-lesson, student practice, and exit ticket.\\n\\nThe output should be a markdown code snippet formatted in the following schema, including the leading and trailing \"\\\\`\\\\`\\\\`json\" and \"\\\\`\\\\`\\\\`\":\\n\\n```json\\n{\\n    \"teks_code\": string  // This is the TEKS code of the lesson plan\\n    \"subject\": string  // This is the subject of the lesson plan\\n    \"duration\": string  // This is the duration of the lesson plan\\n    \"warm_up_exercise\": string // This is the warm-up exerciseportion of the lesson plan\\n    \"attention_getter\": string // This is the attention getter of the lesson plan\\n    \"mini_lesson\": string // This is the mini-lesson of the lesson plan\\n    \"student_practice\": string // This is the student practice of the lesson plan\\n    \"exit_ticket\": string // This is the exit ticket of the lesson plan\\n}\\n```\\n')]"
      ]
     },
     "execution_count": 14,
     "metadata": {},
     "output_type": "execute_result"
    }
   ],
   "source": [
    "messages"
   ]
  },
  {
   "cell_type": "code",
   "execution_count": 15,
   "id": "18f7f529-3146-4342-a648-67b95af92dc3",
   "metadata": {},
   "outputs": [
    {
     "name": "stdout",
     "output_type": "stream",
     "text": [
      "You are TeachGPT, an AI assistant that writes lessons plans according to the Texas Essential Knowledge and Skills (TEKS). Write a lesson plan on TEKS 4.2C Science. The lesson plan must last for 60 minutes. Include a warm-up exercise, an attention getter, a mini-lesson, student practice, and exit ticket.\n",
      "\n",
      "The output should be a markdown code snippet formatted in the following schema, including the leading and trailing \"\\`\\`\\`json\" and \"\\`\\`\\`\":\n",
      "\n",
      "```json\n",
      "{\n",
      "    \"teks_code\": string  // This is the TEKS code of the lesson plan\n",
      "    \"subject\": string  // This is the subject of the lesson plan\n",
      "    \"duration\": string  // This is the duration of the lesson plan\n",
      "    \"warm_up_exercise\": string // This is the warm-up exerciseportion of the lesson plan\n",
      "    \"attention_getter\": string // This is the attention getter of the lesson plan\n",
      "    \"mini_lesson\": string // This is the mini-lesson of the lesson plan\n",
      "    \"student_practice\": string // This is the student practice of the lesson plan\n",
      "    \"exit_ticket\": string // This is the exit ticket of the lesson plan\n",
      "}\n",
      "```\n",
      "\n"
     ]
    }
   ],
   "source": [
    "print(messages[0].content)"
   ]
  },
  {
   "cell_type": "code",
   "execution_count": 16,
   "id": "cd935646-82b0-4811-9912-933c3beaa97f",
   "metadata": {},
   "outputs": [],
   "source": [
    "chat_llm = ChatOpenAI(temperature=0.0)"
   ]
  },
  {
   "cell_type": "code",
   "execution_count": 17,
   "id": "66cb498b-b2c4-47da-841a-6070a08587bb",
   "metadata": {},
   "outputs": [],
   "source": [
    "response = chat_llm.invoke(messages)"
   ]
  },
  {
   "cell_type": "code",
   "execution_count": 18,
   "id": "92215596-9ee9-494f-84ca-d195d06d71b0",
   "metadata": {},
   "outputs": [],
   "source": [
    "response_dict = output_parser.parse(response.content)"
   ]
  },
  {
   "cell_type": "code",
   "execution_count": 19,
   "id": "05539430-fbfc-4759-b436-6ea844ce8b65",
   "metadata": {},
   "outputs": [],
   "source": [
    "response_dict['accomodations'] = accom_list"
   ]
  },
  {
   "cell_type": "code",
   "execution_count": 20,
   "id": "cc5f8346-7104-4e9d-9105-a67190da86db",
   "metadata": {},
   "outputs": [
    {
     "data": {
      "text/plain": [
       "{'teks_code': '4.2C',\n",
       " 'subject': 'Science',\n",
       " 'duration': '60 minutes',\n",
       " 'warm_up_exercise': 'Ask students to name different types of materials they encounter in their daily lives (e.g., wood, plastic, metal, glass).',\n",
       " 'attention_getter': 'Show students a variety of objects made from different materials (e.g., a wooden pencil, a plastic bottle, a metal spoon, a glass jar). Ask them to observe and discuss the materials used to make each object.',\n",
       " 'mini_lesson': 'Explain to students that materials have different properties that make them suitable for specific purposes. Discuss common properties such as hardness, flexibility, transparency, and conductivity. Show examples of materials that exhibit these properties (e.g., a hard rock, a flexible rubber band, a transparent glass window, a conductive metal wire).',\n",
       " 'student_practice': 'Divide students into small groups and provide each group with a set of materials (e.g., paper, fabric, plastic, metal). Instruct them to explore the properties of each material and record their observations. Encourage them to test the materials by bending, stretching, tearing, and observing how they interact with water or other objects.',\n",
       " 'exit_ticket': 'Ask students to individually write down three properties they observed for each material they tested. Collect their responses to assess their understanding of material properties.',\n",
       " 'accomodations': ['Extra time', ' Oral administration']}"
      ]
     },
     "execution_count": 20,
     "metadata": {},
     "output_type": "execute_result"
    }
   ],
   "source": [
    "response_dict"
   ]
  },
  {
   "cell_type": "markdown",
   "id": "de9937cc-97ca-4ac3-9766-419ea8642635",
   "metadata": {},
   "source": [
    "## Create worksheet differentiated according to accomodations of the student"
   ]
  },
  {
   "cell_type": "code",
   "execution_count": 21,
   "id": "1cf08f4c-0e97-4b8d-90e6-09c387a5ffc5",
   "metadata": {},
   "outputs": [],
   "source": [
    "worksheet_template_string = \"Create a worksheet to go along with {student_practice} and differentiate according to the {accom_list} needed.\""
   ]
  },
  {
   "cell_type": "code",
   "execution_count": 22,
   "id": "8f03c78e-b8d8-4209-bfcc-64f87585cf31",
   "metadata": {},
   "outputs": [],
   "source": [
    "prompt = ChatPromptTemplate.from_template(template=worksheet_template_string)\n",
    "\n",
    "messages = prompt.format_messages(student_practice=response_dict[\"student_practice\"],\n",
    "                                  accom_list=response_dict[\"accomodations\"])"
   ]
  },
  {
   "cell_type": "code",
   "execution_count": 23,
   "id": "f286efd0-c284-4ba2-a2fc-a9a0c9f5701c",
   "metadata": {},
   "outputs": [
    {
     "name": "stdout",
     "output_type": "stream",
     "text": [
      "Create a worksheet to go along with Divide students into small groups and provide each group with a set of materials (e.g., paper, fabric, plastic, metal). Instruct them to explore the properties of each material and record their observations. Encourage them to test the materials by bending, stretching, tearing, and observing how they interact with water or other objects. and differentiate according to the ['Extra time', ' Oral administration'] needed.\n"
     ]
    }
   ],
   "source": [
    "print(messages[0].content)"
   ]
  },
  {
   "cell_type": "code",
   "execution_count": 24,
   "id": "2991a199-6b28-4613-9e3d-a9a87530d463",
   "metadata": {},
   "outputs": [
    {
     "data": {
      "text/plain": [
       "AIMessage(content='Worksheet: Exploring Material Properties\\n\\nGroup Name: _______________________\\n\\nMaterials Provided: _______________________\\n\\nInstructions:\\n1. In your group, explore the properties of each material provided.\\n2. Use the materials to perform various tests such as bending, stretching, tearing, and observing their interaction with water or other objects.\\n3. Record your observations in the table below.\\n4. Discuss your findings as a group and answer the questions at the end.\\n\\nMaterial Properties Observation Table:\\n\\nMaterial | Bending | Stretching | Tearing | Interaction with Water/Objects\\n---------|---------|------------|---------|-------------------------------\\n1.       |         |            |         |                               \\n2.       |         |            |         |                               \\n3.       |         |            |         |                               \\n4.       |         |            |         |                               \\n5.       |         |            |         |                               \\n\\nQuestions:\\n1. Which material was the easiest to bend?\\n2. Which material was the most difficult to stretch?\\n3. Which material tore easily?\\n4. Did any material show any unique interaction with water or other objects? If yes, describe it.\\n5. Based on your observations, which material do you think would be most suitable for making a water-resistant bag? Why?\\n\\nDifferentiation:\\nFor students who need extra time, provide them with additional time to complete the worksheet. They can work at their own pace and take breaks if needed.\\n\\nFor students who require oral administration, read the instructions and questions aloud to them. Offer assistance in recording their observations if necessary.')"
      ]
     },
     "execution_count": 24,
     "metadata": {},
     "output_type": "execute_result"
    }
   ],
   "source": [
    "worksheet_response = chat_llm.invoke(messages)\n",
    "worksheet_response"
   ]
  },
  {
   "cell_type": "code",
   "execution_count": 25,
   "id": "eb378da4-6088-44ea-8ecd-2164e679d2b2",
   "metadata": {},
   "outputs": [],
   "source": [
    "x = str(worksheet_response).replace(\"\\\\n\", \"\\n\")"
   ]
  },
  {
   "cell_type": "code",
   "execution_count": 26,
   "id": "34fbbc30-8e2c-4601-9054-014b477ec704",
   "metadata": {},
   "outputs": [
    {
     "name": "stdout",
     "output_type": "stream",
     "text": [
      "content='Worksheet: Exploring Material Properties\n",
      "\n",
      "Group Name: _______________________\n",
      "\n",
      "Materials Provided: _______________________\n",
      "\n",
      "Instructions:\n",
      "1. In your group, explore the properties of each material provided.\n",
      "2. Use the materials to perform various tests such as bending, stretching, tearing, and observing their interaction with water or other objects.\n",
      "3. Record your observations in the table below.\n",
      "4. Discuss your findings as a group and answer the questions at the end.\n",
      "\n",
      "Material Properties Observation Table:\n",
      "\n",
      "Material | Bending | Stretching | Tearing | Interaction with Water/Objects\n",
      "---------|---------|------------|---------|-------------------------------\n",
      "1.       |         |            |         |                               \n",
      "2.       |         |            |         |                               \n",
      "3.       |         |            |         |                               \n",
      "4.       |         |            |         |                               \n",
      "5.       |         |            |         |                               \n",
      "\n",
      "Questions:\n",
      "1. Which material was the easiest to bend?\n",
      "2. Which material was the most difficult to stretch?\n",
      "3. Which material tore easily?\n",
      "4. Did any material show any unique interaction with water or other objects? If yes, describe it.\n",
      "5. Based on your observations, which material do you think would be most suitable for making a water-resistant bag? Why?\n",
      "\n",
      "Differentiation:\n",
      "For students who need extra time, provide them with additional time to complete the worksheet. They can work at their own pace and take breaks if needed.\n",
      "\n",
      "For students who require oral administration, read the instructions and questions aloud to them. Offer assistance in recording their observations if necessary.'\n"
     ]
    }
   ],
   "source": [
    "print(x)"
   ]
  }
 ],
 "metadata": {
  "kernelspec": {
   "display_name": "Python 3 (ipykernel)",
   "language": "python",
   "name": "python3"
  },
  "language_info": {
   "codemirror_mode": {
    "name": "ipython",
    "version": 3
   },
   "file_extension": ".py",
   "mimetype": "text/x-python",
   "name": "python",
   "nbconvert_exporter": "python",
   "pygments_lexer": "ipython3",
   "version": "3.9.9"
  }
 },
 "nbformat": 4,
 "nbformat_minor": 5
}
