{
 "cells": [
  {
   "cell_type": "code",
   "execution_count": 1,
   "id": "6d3ef4e6-2e5d-4a0b-8947-91846b9b76e6",
   "metadata": {},
   "outputs": [],
   "source": [
    "import os\n",
    "from environs import Env\n",
    "\n",
    "env = Env()\n",
    "env.read_env(\".env\") # read .env file, if it exists\n",
    "\n",
    "api_key = os.getenv(\"OPENAI_API_KEY\")"
   ]
  },
  {
   "cell_type": "code",
   "execution_count": 2,
   "id": "fcc8389a-681d-4875-bf87-909326ff05d8",
   "metadata": {},
   "outputs": [],
   "source": [
    "from langchain_openai.llms import OpenAI\n",
    "from langchain.chat_models import ChatOpenAI\n",
    "from langchain.agents.agent_types import AgentType\n",
    "from langchain_experimental.agents import create_csv_agent"
   ]
  },
  {
   "cell_type": "code",
   "execution_count": 3,
   "id": "d4c76e05-a136-4357-9d09-b12efb1afe46",
   "metadata": {},
   "outputs": [],
   "source": [
    "agent = create_csv_agent(\n",
    "    OpenAI(temperature=0, max_tokens=500, openai_api_key=api_key),\n",
    "    \"docs/student_roster.csv\",\n",
    "    verbose=True,\n",
    "    agent_type=AgentType.ZERO_SHOT_REACT_DESCRIPTION,\n",
    ")"
   ]
  },
  {
   "cell_type": "code",
   "execution_count": 4,
   "id": "1250776d-9d6e-4ecb-8181-9f3f3a6116db",
   "metadata": {},
   "outputs": [
    {
     "name": "stdout",
     "output_type": "stream",
     "text": [
      "\n",
      "\n",
      "\u001b[1m> Entering new AgentExecutor chain...\u001b[0m\n",
      "\u001b[32;1m\u001b[1;3mThought: I need to filter the dataframe for rows where LAST is Abson and FIRST is Phoenix and SUBJECT is Science\n",
      "Action: python_repl_ast\n",
      "Action Input: df[(df['LAST'] == 'Abson') & (df['FIRST'] == 'Phoenix') & (df['SUBJECT'] == 'Science')]\u001b[0m\n",
      "Observation: \u001b[36;1m\u001b[1;3m     LAST    FIRST  SUBJECT                    ACCOMODATIONS\n",
      "12  Abson  Phoenix  Science  Extra time, Oral administration\u001b[0m\n",
      "Thought:\u001b[32;1m\u001b[1;3m I need to select the ACCOMODATIONS column from this filtered dataframe\n",
      "Action: python_repl_ast\n",
      "Action Input: df[(df['LAST'] == 'Abson') & (df['FIRST'] == 'Phoenix') & (df['SUBJECT'] == 'Science')]['ACCOMODATIONS']\u001b[0m\n",
      "Observation: \u001b[36;1m\u001b[1;3m12    Extra time, Oral administration\n",
      "Name: ACCOMODATIONS, dtype: object\u001b[0m\n",
      "Thought:\u001b[32;1m\u001b[1;3m I now know the final answer\n",
      "Final Answer: Extra time, Oral administration\u001b[0m\n",
      "\n",
      "\u001b[1m> Finished chain.\u001b[0m\n"
     ]
    },
    {
     "data": {
      "text/plain": [
       "{'input': 'List the accomodations for Abson Phoenix for Science',\n",
       " 'output': 'Extra time, Oral administration'}"
      ]
     },
     "execution_count": 4,
     "metadata": {},
     "output_type": "execute_result"
    }
   ],
   "source": [
    "agent.invoke(\"List the accomodations for Abson Phoenix for Science\")"
   ]
  },
  {
   "cell_type": "code",
   "execution_count": null,
   "id": "e09c3ef9-096d-4e42-b3ed-be147ebdcead",
   "metadata": {},
   "outputs": [],
   "source": []
  }
 ],
 "metadata": {
  "kernelspec": {
   "display_name": "Python 3 (ipykernel)",
   "language": "python",
   "name": "python3"
  },
  "language_info": {
   "codemirror_mode": {
    "name": "ipython",
    "version": 3
   },
   "file_extension": ".py",
   "mimetype": "text/x-python",
   "name": "python",
   "nbconvert_exporter": "python",
   "pygments_lexer": "ipython3",
   "version": "3.9.9"
  }
 },
 "nbformat": 4,
 "nbformat_minor": 5
}
