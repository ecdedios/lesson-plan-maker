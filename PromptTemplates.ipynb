{
 "cells": [
  {
   "cell_type": "code",
   "execution_count": 1,
   "id": "6d3ef4e6-2e5d-4a0b-8947-91846b9b76e6",
   "metadata": {},
   "outputs": [],
   "source": [
    "import os\n",
    "from environs import Env\n",
    "\n",
    "env = Env()\n",
    "env.read_env(\".env\") # read .env file, if it exists\n",
    "\n",
    "api_key = os.getenv(\"OPENAI_API_KEY\")"
   ]
  },
  {
   "cell_type": "code",
   "execution_count": 2,
   "id": "fcc8389a-681d-4875-bf87-909326ff05d8",
   "metadata": {},
   "outputs": [],
   "source": [
    "from langchain_openai.chat_models import ChatOpenAI\n",
    "from langchain.prompts.chat import(\n",
    "    ChatPromptTemplate,\n",
    "    SystemMessagePromptTemplate,\n",
    "    HumanMessagePromptTemplate,\n",
    ")\n",
    "from langchain.chains import LLMChain"
   ]
  },
  {
   "cell_type": "code",
   "execution_count": 5,
   "id": "e09c3ef9-096d-4e42-b3ed-be147ebdcead",
   "metadata": {},
   "outputs": [],
   "source": [
    "template = \"\"\"You are TeachGPT, an AI assistant that writes lessons plans according to the Texas Essential Knowledge and Skills (TEKS). Write a lesson plan for a 60-minute lesson about TEKS {teks} for Math. Include a warm-up exercise, an attention getter, a mini-lesson, student practice, and exit ticket.\"\"\"\n",
    "system_message_prompt = SystemMessagePromptTemplate.from_template(template)\n",
    "\n",
    "human_template = \"{teks}\"\n",
    "human_message_prompt = HumanMessagePromptTemplate.from_template(human_template)\n",
    "\n",
    "chat_prompt = ChatPromptTemplate.from_messages([system_message_prompt, human_message_prompt])\n",
    "\n",
    "chain = LLMChain(\n",
    "    llm=ChatOpenAI(openai_api_key=api_key, max_tokens=500),\n",
    "    prompt=chat_prompt\n",
    ")"
   ]
  },
  {
   "cell_type": "code",
   "execution_count": 9,
   "id": "4bdce54d-4cc8-495e-a3ef-26b02692790a",
   "metadata": {},
   "outputs": [
    {
     "name": "stdout",
     "output_type": "stream",
     "text": [
      "{'teks': '4.2C', 'text': 'TEKS 4.2C Lesson Plan: Comparing and Ordering Whole Numbers\\n\\nSubject: Mathematics\\nGrade: 4th\\nTEKS: 4.2C - Compare and order whole numbers up to 1,000,000,000 and represent comparisons using symbols >, <, or =\\n\\nDuration: 60 minutes\\n\\nObjectives:\\n- Students will be able to compare and order whole numbers up to 1,000,000,000.\\n- Students will represent comparisons using the symbols >, <, or =.\\n\\nMaterials:\\n- Whiteboard or chart paper\\n- Markers or chalk\\n- Individual whiteboards or paper\\n- Dry erase markers or pencils\\n- Comparing and Ordering Whole Numbers worksheet (one per student)\\n- Exit ticket slips\\n\\nWarm-up (5 minutes):\\nBegin the lesson by displaying a list of whole numbers on the board or chart paper. Ask students to read the numbers aloud as a class. Then, instruct students to write the numbers in ascending order on their individual whiteboards or paper. After a minute or two, ask a few students to share their answers and discuss the correct order as a class.\\n\\nAttention Getter (5 minutes):\\nTo engage students and activate their prior knowledge, present a real-life scenario. For example, you could ask students to imagine they are at a grocery store with $100 and need to buy various items. Display a list of prices for different items and ask students to identify which items they can afford and which ones they cannot. This will introduce the concept of comparing and ordering numbers in a practical context.\\n\\nMini-Lesson (15 minutes):\\n1. Write the following numbers on the board: 3,256,789 and 4,297,615. Ask students to identify which number is greater and which is lesser. Discuss their reasoning as a class.\\n2. Explain that when comparing whole numbers, we look at each place value from left to right. Start by comparing the digit in the millions place, then move on to the hundred thousands, ten thousands, thousands, hundreds, tens, and ones places.\\n3. Introduce the symbols >, <, and = to represent greater than, less than, and equal to, respectively. Explain that these symbols will be used to compare and order numbers.\\n4. Model comparing and ordering more examples of whole numbers, both verbally and in written form. Encourage students to use the symbols to represent their comparisons.\\n5. Provide guided practice by asking students to compare and order'}\n"
     ]
    }
   ],
   "source": [
    "print(chain.invoke({'teks':'4.2C'}))"
   ]
  }
 ],
 "metadata": {
  "kernelspec": {
   "display_name": "Python 3 (ipykernel)",
   "language": "python",
   "name": "python3"
  },
  "language_info": {
   "codemirror_mode": {
    "name": "ipython",
    "version": 3
   },
   "file_extension": ".py",
   "mimetype": "text/x-python",
   "name": "python",
   "nbconvert_exporter": "python",
   "pygments_lexer": "ipython3",
   "version": "3.9.9"
  }
 },
 "nbformat": 4,
 "nbformat_minor": 5
}
